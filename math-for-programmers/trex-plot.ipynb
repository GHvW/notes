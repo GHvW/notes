{
 "cells": [
  {
   "cell_type": "code",
   "execution_count": 7,
   "metadata": {},
   "outputs": [],
   "source": [
    "open XPlot.Plotly"
   ]
  },
  {
   "cell_type": "code",
   "execution_count": 13,
   "metadata": {},
   "outputs": [
    {
     "data": {
      "text/html": [
       "<div id=\"616a8d4b-5f5a-4dd9-a935-c12d4978c6e2\" style=\"width: 700px; height: 500px;\"></div>\r\n",
       "<script type=\"text/javascript\">\r\n",
       "\r\n",
       "var renderPlotly = function() {\r\n",
       "    var xplotRequire = requirejs.config({context:'xplot-3.0.1',paths:{plotly:'https://cdn.plot.ly/plotly-1.49.2.min'}});\r\n",
       "    xplotRequire(['plotly'], function(Plotly) {\r\n",
       "\n",
       "            var data = [{\"type\":\"scatter\",\"x\":[6,3,1,-1,-2,-3,-4,-5,-5,-2,-5,-4,-2,-1,0,-1,1,2,1,3,5,6],\"y\":[4,1,2,5,5,4,4,3,2,2,1,0,1,0,-3,-4,-4,-3,-2,-1,1,4],\"mode\":\"markers+lines\"}];\n",
       "            var layout = \"\";\n",
       "            Plotly.newPlot('616a8d4b-5f5a-4dd9-a935-c12d4978c6e2', data, layout);\n",
       "        \r\n",
       "});\r\n",
       "};\r\n",
       "if ((typeof(requirejs) !==  typeof(Function)) || (typeof(requirejs.config) !== typeof(Function))) { \r\n",
       "    var script = document.createElement(\"script\"); \r\n",
       "    script.setAttribute(\"src\", \"https://cdnjs.cloudflare.com/ajax/libs/require.js/2.3.6/require.min.js\"); \r\n",
       "    script.onload = function(){\r\n",
       "        renderPlotly();\r\n",
       "    };\r\n",
       "    document.getElementsByTagName(\"head\")[0].appendChild(script); \r\n",
       "}\r\n",
       "else {\r\n",
       "    renderPlotly();\r\n",
       "}\r\n",
       "</script>\r\n"
      ]
     },
     "execution_count": 13,
     "metadata": {},
     "output_type": "execute_result"
    }
   ],
   "source": [
    "let dinoX = [6; 3; 1; -1; -2; -3; -4; -5; -5; -2; -5; -4; -2; -1;  0; -1;  1;  2;  1;  3; 5; 6]\n",
    "let dinoY = [4; 1; 2;  5;  5;  4;  4;  3;  2;  2;  1;  0;  1;  0; -3; -4; -4; -3; -2; -1; 1; 4]\n",
    "\n",
    "let plot = Scatter(x = dinoX,y =  dinoY, mode = \"markers+lines\")\n",
    "    \n",
    "[plot]\n",
    "|> Chart.Plot\n",
    "|> Chart.WithWidth 700\n",
    "|> Chart.WithHeight 500"
   ]
  },
  {
   "cell_type": "code",
   "execution_count": null,
   "metadata": {},
   "outputs": [],
   "source": []
  }
 ],
 "metadata": {
  "kernelspec": {
   "display_name": ".NET (F#)",
   "language": "F#",
   "name": ".net-fsharp"
  },
  "language_info": {
   "file_extension": ".fs",
   "mimetype": "text/x-fsharp",
   "name": "C#",
   "pygments_lexer": "fsharp",
   "version": "4.5"
  }
 },
 "nbformat": 4,
 "nbformat_minor": 4
}
